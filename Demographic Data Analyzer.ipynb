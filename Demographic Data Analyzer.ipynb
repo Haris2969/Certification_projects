{
 "cells": [
  {
   "cell_type": "code",
   "execution_count": 2,
   "id": "db925fcb-dcdd-4ac3-b0ba-7e4b50322594",
   "metadata": {},
   "outputs": [
    {
     "name": "stdout",
     "output_type": "stream",
     "text": [
      "Race counts:\n",
      " race\n",
      "White                 27816\n",
      "Black                  3124\n",
      "Asian-Pac-Islander     1039\n",
      "Amer-Indian-Eskimo      311\n",
      "Other                   271\n",
      "Name: count, dtype: int64\n",
      "Average age of men: 39.43354749885268\n",
      "Percentage of Bachelors: 16.44605509658794\n",
      "Percentage of people with advanced education earning >50K: 46.535843011613935\n",
      "Percentage of people without advanced education earning >50K: 17.3713601914639\n",
      "Minimum hours per week: 1\n",
      "Percentage of minimum hour workers earning >50K: 10.0\n",
      "Country with highest percentage of >50K earners: United-States with 91.45517153424308 %\n",
      "Most popular occupation for >50K earners in India: Prof-specialty\n"
     ]
    }
   ],
   "source": [
    "import pandas as pd\n",
    "\n",
    "# Load the dataset\n",
    "df = pd.read_csv('adult.data.csv')\n",
    "\n",
    "# Calculate required values\n",
    "race_counts = df['race'].value_counts()\n",
    "average_age_men = df[df['sex'] == 'Male']['age'].mean()\n",
    "percentage_bachelors = (df['education'] == 'Bachelors').mean() * 100\n",
    "advanced_education = df['education'].isin(['Bachelors', 'Masters', 'Doctorate'])\n",
    "percentage_high_salary_advanced = (df[advanced_education]['salary'] == '>50K').mean() * 100\n",
    "non_advanced_education = ~advanced_education\n",
    "percentage_high_salary_non_advanced = (df[non_advanced_education]['salary'] == '>50K').mean() * 100\n",
    "minimum_hours_per_week = df['hours-per-week'].min()\n",
    "min_hours_salary_over_50K = (df[df['hours-per-week'] == minimum_hours_per_week]['salary'] == '>50K').mean() * 100\n",
    "country_salary_counts = df[df['salary'] == '>50K']['native-country'].value_counts(normalize=True) * 100\n",
    "highest_percentage_country = country_salary_counts.idxmax()\n",
    "highest_percentage = country_salary_counts.max()\n",
    "popular_occupation_india = df[(df['native-country'] == 'India') & (df['salary'] == '>50K')]['occupation'].mode()[0]\n",
    "\n",
    "# Print results\n",
    "print(\"Race counts:\\n\", race_counts)\n",
    "print(\"Average age of men:\", average_age_men)\n",
    "print(\"Percentage of Bachelors:\", percentage_bachelors)\n",
    "print(\"Percentage of people with advanced education earning >50K:\", percentage_high_salary_advanced)\n",
    "print(\"Percentage of people without advanced education earning >50K:\", percentage_high_salary_non_advanced)\n",
    "print(\"Minimum hours per week:\", minimum_hours_per_week)\n",
    "print(\"Percentage of minimum hour workers earning >50K:\", min_hours_salary_over_50K)\n",
    "print(\"Country with highest percentage of >50K earners:\", highest_percentage_country, \"with\", highest_percentage, \"%\")\n",
    "print(\"Most popular occupation for >50K earners in India:\", popular_occupation_india)\n"
   ]
  },
  {
   "cell_type": "code",
   "execution_count": null,
   "id": "b2aa2d8b-822d-49e3-b82d-15c8610484eb",
   "metadata": {},
   "outputs": [],
   "source": []
  }
 ],
 "metadata": {
  "kernelspec": {
   "display_name": "Python 3 (ipykernel)",
   "language": "python",
   "name": "python3"
  },
  "language_info": {
   "codemirror_mode": {
    "name": "ipython",
    "version": 3
   },
   "file_extension": ".py",
   "mimetype": "text/x-python",
   "name": "python",
   "nbconvert_exporter": "python",
   "pygments_lexer": "ipython3",
   "version": "3.12.4"
  }
 },
 "nbformat": 4,
 "nbformat_minor": 5
}

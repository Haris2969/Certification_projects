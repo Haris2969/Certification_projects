{
 "cells": [
  {
   "cell_type": "code",
   "execution_count": null,
   "id": "38df7ba7-5309-438f-8493-fa3e80ced386",
   "metadata": {},
   "outputs": [],
   "source": [
    "import numpy as np\n",
    "\n",
    "def Calculate():\n",
    "  \n",
    "    Get_input = (input(\"PLEASE ENTER NINE DIGITS: \"))\n",
    "    \n",
    "    if Get_input.isdigit() and len(Get_input) == 9:\n",
    "        \n",
    "        Creating_list = [int (i) for i in Get_input]\n",
    "       \n",
    "        matrix = np.array(Creating_list).reshape(3, 3)\n",
    "     \n",
    "        calculations = {\n",
    "            \n",
    "            'mean'     : [matrix.mean(axis=0), matrix.mean(axis=1), matrix.mean()],\n",
    "            'variance' : [matrix.var(axis=0), matrix.var(axis=1), matrix.var()],\n",
    "            'std'      : [matrix.std(axis=0), matrix.std(axis=1), matrix.std()],\n",
    "            'Max'      : [matrix.max(axis=0), matrix.max(axis=1), matrix.max()],\n",
    "            'Min'      : [matrix.min(axis=0), matrix.min(axis=1), matrix.min()],\n",
    "            'Sum'      : [matrix.sum(axis=0), matrix.sum(axis=1), matrix.sum()]\n",
    "            \n",
    "        }\n",
    "        \n",
    "        print(calculations) \n",
    "            \n",
    "\n",
    "    else:\n",
    "        print (\"PLEASE ENTER THE EXACT 9 DIGITS.\")\n",
    "        \n",
    "   \n",
    "Calculate()\n"
   ]
  },
  {
   "cell_type": "code",
   "execution_count": null,
   "id": "4af42af9-316e-471f-b1ec-92f9f75ed071",
   "metadata": {},
   "outputs": [],
   "source": []
  }
 ],
 "metadata": {
  "kernelspec": {
   "display_name": "Python 3 (ipykernel)",
   "language": "python",
   "name": "python3"
  },
  "language_info": {
   "codemirror_mode": {
    "name": "ipython",
    "version": 3
   },
   "file_extension": ".py",
   "mimetype": "text/x-python",
   "name": "python",
   "nbconvert_exporter": "python",
   "pygments_lexer": "ipython3",
   "version": "3.12.4"
  }
 },
 "nbformat": 4,
 "nbformat_minor": 5
}
